{
 "cells": [
  {
   "cell_type": "markdown",
   "id": "116ccc7d",
   "metadata": {},
   "source": [
    "### RAG System with Agents : For Indian Railways Annual Report 2023-2024 & Train Details using DataSet\n",
    "-----------------"
   ]
  },
  {
   "cell_type": "code",
   "execution_count": 1,
   "id": "f0a7437e",
   "metadata": {},
   "outputs": [],
   "source": [
    "## Importing necessary libraries\n",
    "from llama_index.core import StorageContext, VectorStoreIndex\n",
    "from llama_index.core.node_parser import SentenceSplitter\n",
    "from llama_index.vector_stores.chroma import ChromaVectorStore\n",
    "import chromadb\n"
   ]
  },
  {
   "cell_type": "code",
   "execution_count": 2,
   "id": "270d7d6b",
   "metadata": {},
   "outputs": [],
   "source": [
    "from llama_index.readers.file import PDFReader"
   ]
  },
  {
   "cell_type": "code",
   "execution_count": 3,
   "id": "4eb6beba",
   "metadata": {},
   "outputs": [
    {
     "data": {
      "text/plain": [
       "True"
      ]
     },
     "execution_count": 3,
     "metadata": {},
     "output_type": "execute_result"
    }
   ],
   "source": [
    "import dotenv\n",
    "dotenv.load_dotenv()"
   ]
  },
  {
   "cell_type": "code",
   "execution_count": 4,
   "id": "857ab034",
   "metadata": {},
   "outputs": [],
   "source": [
    "reader = PDFReader()\n",
    "docs = reader.load_data(\"data/Indian_Railways_Annual_Report _23_24.pdf\")"
   ]
  },
  {
   "cell_type": "code",
   "execution_count": 5,
   "id": "2db1ebf0",
   "metadata": {},
   "outputs": [],
   "source": [
    "# 2. Create a text splitter with chunk size & overlap\n",
    "splitter = SentenceSplitter(chunk_size=500, chunk_overlap=50)"
   ]
  },
  {
   "cell_type": "code",
   "execution_count": 6,
   "id": "a814a044",
   "metadata": {},
   "outputs": [],
   "source": [
    "# Convert docs into chunks (nodes)\n",
    "nodes = splitter.get_nodes_from_documents(docs)"
   ]
  },
  {
   "cell_type": "code",
   "execution_count": 7,
   "id": "942054f7",
   "metadata": {},
   "outputs": [],
   "source": [
    "# 3. Setup Chroma client for persistence\n",
    "chroma_client = chromadb.PersistentClient(path=\"./chroma_store\")\n",
    "chroma_collection = chroma_client.get_or_create_collection(\"my_documents\")"
   ]
  },
  {
   "cell_type": "code",
   "execution_count": null,
   "id": "53e656c4",
   "metadata": {},
   "outputs": [],
   "source": [
    "# 4. Create Chroma vector store\n",
    "vector_store = ChromaVectorStore(chroma_collection=chroma_collection)"
   ]
  },
  {
   "cell_type": "code",
   "execution_count": 9,
   "id": "8fa9f4e6",
   "metadata": {},
   "outputs": [],
   "source": [
    "# 5. Build storage context with Chroma backend\n",
    "storage_context = StorageContext.from_defaults(vector_store=vector_store)"
   ]
  },
  {
   "cell_type": "code",
   "execution_count": null,
   "id": "8ff66eb7",
   "metadata": {},
   "outputs": [],
   "source": [
    "# 6. Store the chunked nodes in Chroma\n",
    "index = VectorStoreIndex(nodes, storage_context=storage_context)"
   ]
  },
  {
   "cell_type": "code",
   "execution_count": 11,
   "id": "ef0cf292",
   "metadata": {},
   "outputs": [],
   "source": [
    "query_engine = index.as_query_engine()\n"
   ]
  },
  {
   "cell_type": "code",
   "execution_count": 176,
   "id": "8bfa556e",
   "metadata": {},
   "outputs": [
    {
     "name": "stdout",
     "output_type": "stream",
     "text": [
      "Indian Railways conducted a full scale disaster management exercise in the year 2023.\n"
     ]
    }
   ],
   "source": [
    "response = query_engine.query(\"At What Year Indian Railways have conducted full scale disaster management exercise?\")\n",
    "print(response)"
   ]
  },
  {
   "cell_type": "code",
   "execution_count": 13,
   "id": "3ccba06c",
   "metadata": {},
   "outputs": [
    {
     "name": "stdout",
     "output_type": "stream",
     "text": [
      "The cost of the Extension of Harbour Line between Goregaon-Borivali is 826.\n"
     ]
    }
   ],
   "source": [
    "resp = query_engine.query(\"What ia the  Cost of Extension of Harbour Line between Goregaon-Borivali?\")\n",
    "print(resp)"
   ]
  },
  {
   "cell_type": "markdown",
   "id": "f73df0b5",
   "metadata": {},
   "source": [
    "#### Extracting Table Details from PDF using PDFPlumber"
   ]
  },
  {
   "cell_type": "code",
   "execution_count": 15,
   "id": "7254b783",
   "metadata": {},
   "outputs": [],
   "source": [
    "import pdfplumber\n",
    "from llama_index.core.schema import Document\n",
    "import pandas as pd\n",
    "\n",
    "def extract_tables_to_documents(pdf_path):\n",
    "    \"\"\"\n",
    "    Extracts tables from a PDF and converts them into a list of LlamaIndex Document objects.\n",
    "    Each document represents a single table.\n",
    "    \"\"\"\n",
    "    documents = []\n",
    "    with pdfplumber.open(pdf_path) as pdf:\n",
    "        for page_num, page in enumerate(pdf.pages):\n",
    "            page_tables = page.extract_tables()\n",
    "            if page_tables:\n",
    "                for table_num, table in enumerate(page_tables):\n",
    "                    # Convert the list of lists into a more readable string format\n",
    "                    # This helps the LLM understand the table structure\n",
    "                    table_str = f\"Table on page {page_num + 1}, table {table_num + 1}:\\n\"\n",
    "                    # Add a header row\n",
    "                    header = table\n",
    "                    header_row = [str(cell) if cell is not None else \"\" for cell in header]\n",
    "                    table_str += \"| \" + \" | \".join(header_row) + \" |\\n\"\n",
    "                    table_str += \"| \" + \" | \".join([\"---\"] * len(header_row)) + \" |\\n\"\n",
    "                    # Add data rows\n",
    "                    for row in table[1:]:\n",
    "                        # Filter out None values to prevent errors\n",
    "                        clean_row = [str(cell) if cell is not None else \"\" for cell in row]\n",
    "                        table_str += \"| \" + \" | \".join(clean_row) + \" |\\n\"\n",
    "                    \n",
    "                    # Create a Document object\n",
    "                    doc = Document(text=table_str, metadata={\"page_number\": page_num + 1})\n",
    "                    documents.append(doc)\n",
    "    return documents\n",
    "\n",
    "\n",
    "pdf_file = \"data/Indian_Railways_Annual_Report _23_24.pdf\"\n",
    "documents = extract_tables_to_documents(pdf_file)"
   ]
  },
  {
   "cell_type": "code",
   "execution_count": 16,
   "id": "daf6a1df",
   "metadata": {},
   "outputs": [],
   "source": [
    "# Convert docs into chunks (nodes)\n",
    "nodes_table = splitter.get_nodes_from_documents(documents)"
   ]
  },
  {
   "cell_type": "code",
   "execution_count": 17,
   "id": "bb6f7415",
   "metadata": {},
   "outputs": [],
   "source": [
    "index.insert_nodes(nodes_table, storage_context=storage_context)"
   ]
  },
  {
   "cell_type": "code",
   "execution_count": 18,
   "id": "20bb7d7e",
   "metadata": {},
   "outputs": [],
   "source": [
    "query_engine = index.as_query_engine()"
   ]
  },
  {
   "cell_type": "code",
   "execution_count": 19,
   "id": "99c55994",
   "metadata": {},
   "outputs": [
    {
     "name": "stdout",
     "output_type": "stream",
     "text": [
      "Maharashtra\n"
     ]
    }
   ],
   "source": [
    "resp2 = query_engine.query(\"Ahmednagar - New Loni - Ashti belongs to which state?\")\n",
    "print(resp2)"
   ]
  },
  {
   "cell_type": "code",
   "execution_count": 20,
   "id": "4f17a201",
   "metadata": {},
   "outputs": [
    {
     "name": "stdout",
     "output_type": "stream",
     "text": [
      "The New Bongaigaon- Kamakhya via Rangiya project length is 176 km and the anticipated cost is 4,060.\n"
     ]
    }
   ],
   "source": [
    "resp3 = query_engine.query(\"What is New Bongaigaon- Kamakhya via Rangiya project length and anticipated cost?\")\n",
    "print(resp3)"
   ]
  },
  {
   "cell_type": "code",
   "execution_count": 21,
   "id": "3cefb8cd",
   "metadata": {},
   "outputs": [
    {
     "name": "stdout",
     "output_type": "stream",
     "text": [
      "The key financial highlights include Gross Traffic Receipts of 2,55,272.63 crore, Ordinary Working Expenses of 1,91,093.61 crore, Contribution to Reserve Funds of 59,800.00 crore, Net Traffic Receipts (Operating Profit) of 250,893.61 crore, Miscellaneous Transactions (Net) of 4,379.02 crore, Net Revenue (Gross Profit) of 3,259.68 crore.\n"
     ]
    }
   ],
   "source": [
    "resp4 = query_engine.query(\"Summarize theKey Financial Highlights?\")\n",
    "print(resp4)"
   ]
  },
  {
   "cell_type": "markdown",
   "id": "20728d75",
   "metadata": {},
   "source": [
    "### Using Train DataSet to extract general Train Info"
   ]
  },
  {
   "cell_type": "code",
   "execution_count": 22,
   "id": "3284e1f9",
   "metadata": {},
   "outputs": [],
   "source": [
    "import pandas as pd\n",
    "data_frames = pd.read_csv(\"data_set/train_info.csv\")"
   ]
  },
  {
   "cell_type": "code",
   "execution_count": 23,
   "id": "34bc750a",
   "metadata": {},
   "outputs": [
    {
     "data": {
      "text/html": [
       "<div>\n",
       "<style scoped>\n",
       "    .dataframe tbody tr th:only-of-type {\n",
       "        vertical-align: middle;\n",
       "    }\n",
       "\n",
       "    .dataframe tbody tr th {\n",
       "        vertical-align: top;\n",
       "    }\n",
       "\n",
       "    .dataframe thead th {\n",
       "        text-align: right;\n",
       "    }\n",
       "</style>\n",
       "<table border=\"1\" class=\"dataframe\">\n",
       "  <thead>\n",
       "    <tr style=\"text-align: right;\">\n",
       "      <th></th>\n",
       "      <th>Train_No</th>\n",
       "      <th>Train_Name</th>\n",
       "      <th>Source_Station_Name</th>\n",
       "      <th>Destination_Station_Name</th>\n",
       "      <th>days</th>\n",
       "    </tr>\n",
       "  </thead>\n",
       "  <tbody>\n",
       "    <tr>\n",
       "      <th>0</th>\n",
       "      <td>107</td>\n",
       "      <td>SWV-MAO-VLNK</td>\n",
       "      <td>SAWANTWADI ROAD</td>\n",
       "      <td>MADGOAN JN.</td>\n",
       "      <td>Saturday</td>\n",
       "    </tr>\n",
       "    <tr>\n",
       "      <th>1</th>\n",
       "      <td>108</td>\n",
       "      <td>VLNK-MAO-SWV</td>\n",
       "      <td>MADGOAN JN.</td>\n",
       "      <td>SAWANTWADI ROAD</td>\n",
       "      <td>Friday</td>\n",
       "    </tr>\n",
       "    <tr>\n",
       "      <th>2</th>\n",
       "      <td>128</td>\n",
       "      <td>MAO-KOP SPEC</td>\n",
       "      <td>MADGOAN JN.</td>\n",
       "      <td>CHHATRAPATI SHAHU MAHARAJ TERMINUS</td>\n",
       "      <td>Friday</td>\n",
       "    </tr>\n",
       "    <tr>\n",
       "      <th>3</th>\n",
       "      <td>290</td>\n",
       "      <td>PALACE ON WH</td>\n",
       "      <td>DELHI-SAFDAR JANG</td>\n",
       "      <td>DELHI-SAFDAR JANG</td>\n",
       "      <td>Wednesday</td>\n",
       "    </tr>\n",
       "    <tr>\n",
       "      <th>4</th>\n",
       "      <td>401</td>\n",
       "      <td>BSB BHARATDA</td>\n",
       "      <td>AURANGABAD</td>\n",
       "      <td>VARANASI JN.</td>\n",
       "      <td>Saturday</td>\n",
       "    </tr>\n",
       "  </tbody>\n",
       "</table>\n",
       "</div>"
      ],
      "text/plain": [
       "   Train_No    Train_Name Source_Station_Name  \\\n",
       "0       107  SWV-MAO-VLNK     SAWANTWADI ROAD   \n",
       "1       108  VLNK-MAO-SWV         MADGOAN JN.   \n",
       "2       128  MAO-KOP SPEC         MADGOAN JN.   \n",
       "3       290  PALACE ON WH   DELHI-SAFDAR JANG   \n",
       "4       401  BSB BHARATDA          AURANGABAD   \n",
       "\n",
       "             Destination_Station_Name       days  \n",
       "0                         MADGOAN JN.   Saturday  \n",
       "1                     SAWANTWADI ROAD     Friday  \n",
       "2  CHHATRAPATI SHAHU MAHARAJ TERMINUS     Friday  \n",
       "3                   DELHI-SAFDAR JANG  Wednesday  \n",
       "4                        VARANASI JN.   Saturday  "
      ]
     },
     "execution_count": 23,
     "metadata": {},
     "output_type": "execute_result"
    }
   ],
   "source": [
    "data_frames.head()  # Display the first few rows of the DataFrame"
   ]
  },
  {
   "cell_type": "code",
   "execution_count": 24,
   "id": "791400b1",
   "metadata": {},
   "outputs": [],
   "source": [
    "data_frames.to_json(\"data_set/train_info.json\", orient=\"records\")  # Save as JSON"
   ]
  },
  {
   "cell_type": "code",
   "execution_count": 25,
   "id": "6e33b48f",
   "metadata": {},
   "outputs": [],
   "source": [
    "from llama_index.core.indices.struct_store import JSONQueryEngine"
   ]
  },
  {
   "cell_type": "code",
   "execution_count": 26,
   "id": "9d0c105c",
   "metadata": {},
   "outputs": [],
   "source": [
    "train_info_schema = {\n",
    "  \"type\": \"array\",\n",
    "  \"items\": {\n",
    "    \"type\": \"object\",\n",
    "    \"properties\": {\n",
    "      \"Train_No\": {\n",
    "        \"type\": \"integer\",\n",
    "        \"description\": \"The unique number of the train.\"\n",
    "      },\n",
    "      \"Train_Name\": {\n",
    "        \"type\": \"string\",\n",
    "        \"description\": \"The name of the train.\"\n",
    "      },\n",
    "      \"Source_Station_Name\": {\n",
    "        \"type\": \"string\",\n",
    "        \"description\": \"The starting station of the train's journey.\"\n",
    "      },\n",
    "      \"Destination_Station_Name\": {\n",
    "        \"type\": \"string\",\n",
    "        \"description\": \"The final destination of the train's journey.\"\n",
    "      },\n",
    "      \"days\": {\n",
    "        \"type\": \"string\",\n",
    "        \"description\": \"The day of the week the train operates.\"\n",
    "      }\n",
    "    },\n",
    "    \"required\": [\"Train_No\", \"Train_Name\", \"Source_Station_Name\", \"Destination_Station_Name\", \"days\"]\n",
    "  }\n",
    "}"
   ]
  },
  {
   "cell_type": "code",
   "execution_count": 27,
   "id": "c4b75f97",
   "metadata": {},
   "outputs": [],
   "source": [
    "import json\n",
    "\n",
    "with open(\"data_set/train_info.json\", \"r\", encoding=\"utf-8\") as f:\n",
    "    train_info_json_obj = json.load(f)"
   ]
  },
  {
   "cell_type": "code",
   "execution_count": 28,
   "id": "3a730bc9",
   "metadata": {},
   "outputs": [],
   "source": [
    "nl_query_engine = JSONQueryEngine(\n",
    "    json_value=train_info_json_obj,\n",
    "    json_schema=train_info_schema\n",
    ")"
   ]
  },
  {
   "cell_type": "code",
   "execution_count": 193,
   "id": "03eb3d6d",
   "metadata": {},
   "outputs": [
    {
     "name": "stdout",
     "output_type": "stream",
     "text": [
      "Train Number: 107\n",
      "Train Name: SWV-MAO-VLNK\n",
      "Source Station: SAWANTWADI ROAD\n",
      "Destination Station: MADGOAN JN.\n",
      "Operating Day: Saturday\n"
     ]
    }
   ],
   "source": [
    "nl_response = nl_query_engine.query(\n",
    "    \"Give the details for the train no 107?\",\n",
    ")\n",
    "print(nl_response)"
   ]
  },
  {
   "cell_type": "code",
   "execution_count": 196,
   "id": "6eb18651",
   "metadata": {},
   "outputs": [
    {
     "name": "stdout",
     "output_type": "stream",
     "text": [
      "The train with number 108 is named VLNK-MAO-SWV. It starts its journey from MADGOAN JN. and reaches its final destination at SAWANTWADI ROAD. This train operates on Fridays.\n"
     ]
    }
   ],
   "source": [
    "nl_response = nl_query_engine.query(\n",
    "    \"Give the details for the train no 108?\",\n",
    ")\n",
    "print(nl_response)"
   ]
  },
  {
   "cell_type": "code",
   "execution_count": 198,
   "id": "1500b67b",
   "metadata": {},
   "outputs": [
    {
     "name": "stdout",
     "output_type": "stream",
     "text": [
      "The train with the name 'PNBE-ASR FTR' has the following details:\n",
      "- Train Number: 604\n",
      "- Source Station: PATNA JN.\n",
      "- Destination Station: AMRITSAR JN.\n",
      "- Operating Day: Thursday\n"
     ]
    }
   ],
   "source": [
    "nl_response = nl_query_engine.query(\n",
    "    \"Give the details for the train whose name is 'PNBE-ASR FTR'?\",\n",
    ")\n",
    "print(nl_response)"
   ]
  },
  {
   "cell_type": "code",
   "execution_count": 199,
   "id": "782c7335",
   "metadata": {},
   "outputs": [
    {
     "name": "stdout",
     "output_type": "stream",
     "text": [
      "The details for the trains with the destination station 'SIRSA' are as follows:\n",
      "1. Train No: 477, Train Name: FTR TRAIN NO, Source Station: SIRSA, Destination Station: SIRSA, Operating Day: Sunday\n",
      "2. Train No: 14085, Train Name: HARYANA EXPR, Source Station: TILAK BRIDGE, Destination Station: SIRSA, Operating Day: Saturday\n",
      "3. Train No: 54632, Train Name: DHURI -SSA P, Source Station: DHURI JN., Destination Station: SIRSA, Operating Day: Tuesday\n"
     ]
    }
   ],
   "source": [
    "nl_response = nl_query_engine.query(\n",
    "    \"Give the details for the train whose destination station is 'SIRSA'?\",\n",
    ")\n",
    "print(nl_response)"
   ]
  },
  {
   "cell_type": "markdown",
   "id": "f5b062d8",
   "metadata": {},
   "source": []
  },
  {
   "cell_type": "markdown",
   "id": "dc402297",
   "metadata": {},
   "source": [
    "### Creating Agents using QueryEngines"
   ]
  },
  {
   "cell_type": "code",
   "execution_count": 31,
   "id": "54b96e24",
   "metadata": {},
   "outputs": [],
   "source": [
    "from llama_index.core.agent import AgentRunner"
   ]
  },
  {
   "cell_type": "code",
   "execution_count": 32,
   "id": "42e39167",
   "metadata": {},
   "outputs": [],
   "source": [
    "from llama_index.core.tools import QueryEngineTool"
   ]
  },
  {
   "cell_type": "markdown",
   "id": "e01caff0",
   "metadata": {},
   "source": [
    "QueryEngine:Tool1: Retrive Train Info Details"
   ]
  },
  {
   "cell_type": "code",
   "execution_count": 83,
   "id": "8a4debe3",
   "metadata": {},
   "outputs": [],
   "source": [
    "query_engine_tool_1 = QueryEngineTool.from_defaults(\n",
    "    query_engine=nl_query_engine,\n",
    "    name=\"train_info_query_tool\",\n",
    "    description=(\n",
    "        \"This tool can answer questions related to Train details such as train journey from which place it starts and where it ends, and operations and it accept train no and other train details. \"\n",
    "        \"Use it when the user asks about specific information that this query engine can handle.\"\n",
    "        \"Use this tool to get specific train information based on the train number or other details such as starting point and end point or destination.Do not use this tool for general queries or unrelated information.\"\n",
    "    )\n",
    ")"
   ]
  },
  {
   "cell_type": "markdown",
   "id": "e2cac1f7",
   "metadata": {},
   "source": [
    "Query Engine Tool 2 : Indian Railways Station Annual Report 23-24"
   ]
  },
  {
   "cell_type": "code",
   "execution_count": 34,
   "id": "2961b30d",
   "metadata": {},
   "outputs": [],
   "source": [
    "query_engine_tool_2 = QueryEngineTool.from_defaults(\n",
    "    query_engine=query_engine,\n",
    "    name=\"train_annual_report_tool\",\n",
    "    description=(\n",
    "        \"This tool can answer questions related to Train Annual Report such as financial highlights, project details, and other operational information, Also\" \\\n",
    "        \"it can handle queries about the annual report's content and structure.Differnt set of question related to status and all\" \\\n",
    "        \"Use it when the user asks about specific information that this query engine can handle.\"\n",
    "        \"Do not use this tool for general queries or unrelated information which is outside of this context.\"\n",
    "    )\n",
    ")"
   ]
  },
  {
   "cell_type": "code",
   "execution_count": null,
   "id": "23afd1bb",
   "metadata": {},
   "outputs": [],
   "source": [
    "from llama_index.core.agent import AgentRunner, ReActAgentWorker"
   ]
  },
  {
   "cell_type": "code",
   "execution_count": 82,
   "id": "ad405b29",
   "metadata": {},
   "outputs": [],
   "source": [
    "from llama_index.llms.openai import OpenAI"
   ]
  },
  {
   "cell_type": "code",
   "execution_count": 84,
   "id": "0afda667",
   "metadata": {},
   "outputs": [],
   "source": [
    "from llama_index.core.agent.workflow import FunctionAgent\n",
    "from llama_index.core.workflow import Context\n",
    "\n",
    "agent = FunctionAgent(tools=[query_engine_tool_1,query_engine_tool_2], llm=OpenAI(model=\"gpt-4o\"))\n",
    "\n",
    "# context to hold the session/state\n",
    "ctx = Context(agent)"
   ]
  },
  {
   "cell_type": "markdown",
   "id": "078d56e4",
   "metadata": {},
   "source": [
    "1. Running Query 1 from Agent: Give the details for the train no 108?"
   ]
  },
  {
   "cell_type": "code",
   "execution_count": 85,
   "id": "49fda109",
   "metadata": {},
   "outputs": [
    {
     "name": "stdout",
     "output_type": "stream",
     "text": [
      "Call train_info_query_tool with args {'input': 'train no 108'}\n",
      "Returned: Train number 108 is VLNK-MAO-SWV, which operates from MADGOAN JN. to SAWANTWADI ROAD on Fridays.\n",
      "Train number 108, known as VLNK-MAO-SWV, operates from Madgaon Junction (MADGOAN JN.) to Sawantwadi Road (SAWANTWADI ROAD) on Fridays."
     ]
    }
   ],
   "source": [
    "from llama_index.core.agent.workflow import ToolCallResult, AgentStream\n",
    "\n",
    "handler = agent.run(\"Give the details for the train no 108?\", ctx=ctx)\n",
    "\n",
    "async for ev in handler.stream_events():\n",
    "    if isinstance(ev, ToolCallResult):\n",
    "        print(\n",
    "            f\"Call {ev.tool_name} with args {ev.tool_kwargs}\\nReturned: {ev.tool_output}\"\n",
    "        )\n",
    "    elif isinstance(ev, AgentStream):\n",
    "        print(ev.delta, end=\"\", flush=True)\n",
    "\n",
    "response = await handler"
   ]
  },
  {
   "cell_type": "code",
   "execution_count": 86,
   "id": "276e2434",
   "metadata": {},
   "outputs": [
    {
     "data": {
      "text/plain": [
       "'Train number 108, known as VLNK-MAO-SWV, operates from Madgaon Junction (MADGOAN JN.) to Sawantwadi Road (SAWANTWADI ROAD) on Fridays.'"
      ]
     },
     "execution_count": 86,
     "metadata": {},
     "output_type": "execute_result"
    }
   ],
   "source": [
    "response.response.blocks[0].text if response.response.blocks else \"No response received.\""
   ]
  },
  {
   "cell_type": "markdown",
   "id": "8414e4ef",
   "metadata": {},
   "source": [
    "2. Running Query 2 from Agent: Status of level crossings on IR as on 01.04.2024?"
   ]
  },
  {
   "cell_type": "code",
   "execution_count": 87,
   "id": "7b710cfe",
   "metadata": {},
   "outputs": [],
   "source": [
    "handler2 = agent.run(\"Status of level crossings on IR as on 01.04.2024?\", ctx=ctx)"
   ]
  },
  {
   "cell_type": "code",
   "execution_count": 88,
   "id": "450d4376",
   "metadata": {},
   "outputs": [],
   "source": [
    "rr = await handler2"
   ]
  },
  {
   "cell_type": "code",
   "execution_count": 89,
   "id": "5bb261f4",
   "metadata": {},
   "outputs": [
    {
     "name": "stdout",
     "output_type": "stream",
     "text": [
      "As of April 1, 2024, the status of level crossings on Indian Railways is as follows:\n",
      "\n",
      "- Total number of level crossings: 17,777\n",
      "- Number of manned level crossings: 17,260 (97%)\n",
      "- Number of unmanned level crossings: 513 (3%)\n"
     ]
    }
   ],
   "source": [
    "print(rr.response.blocks[0].text if rr.response.blocks else \"No response received.\")"
   ]
  },
  {
   "cell_type": "markdown",
   "id": "ebcebade",
   "metadata": {},
   "source": [
    "3. Running Query 3 from Agent: Provide details about train no 504"
   ]
  },
  {
   "cell_type": "code",
   "execution_count": 90,
   "id": "c73a6aac",
   "metadata": {},
   "outputs": [],
   "source": [
    "handler3 = agent.run(\"provide details about train no 504\", ctx=ctx)\n",
    "trains = await handler3"
   ]
  },
  {
   "cell_type": "code",
   "execution_count": 91,
   "id": "06002ee0",
   "metadata": {},
   "outputs": [
    {
     "data": {
      "text/plain": [
       "'Train number 504, known as the PNBE-BTI FTR, operates from Patna Junction (PATNA JN.) to Bathinda Junction (BATHINDA JN) on Wednesdays.'"
      ]
     },
     "execution_count": 91,
     "metadata": {},
     "output_type": "execute_result"
    }
   ],
   "source": [
    "trains.response.blocks[0].text if trains.response.blocks else \"No response received.\""
   ]
  },
  {
   "cell_type": "markdown",
   "id": "144f4a42",
   "metadata": {},
   "source": [
    "4. Running Query 4 from Agent: provide details about train whose name is VLNK-MAO-SWV"
   ]
  },
  {
   "cell_type": "code",
   "execution_count": 101,
   "id": "ec0f58c5",
   "metadata": {},
   "outputs": [],
   "source": [
    "handler4 = agent.run(\"provide details about train whose name is VLNK-MAO-SWV\", ctx=ctx)\n",
    "trains = await handler4"
   ]
  },
  {
   "cell_type": "code",
   "execution_count": 102,
   "id": "2c5a0157",
   "metadata": {},
   "outputs": [
    {
     "data": {
      "text/plain": [
       "'The train named VLNK-MAO-SWV, with train number 108, operates from Madgaon Junction (MADGOAN JN.) to Sawantwadi Road (SAWANTWADI ROAD) on Fridays.'"
      ]
     },
     "execution_count": 102,
     "metadata": {},
     "output_type": "execute_result"
    }
   ],
   "source": [
    "trains.response.blocks[0].text if trains.response.blocks else \"No response received.\""
   ]
  },
  {
   "cell_type": "markdown",
   "id": "14caf73c",
   "metadata": {},
   "source": [
    "5. Running Query 5 from Agent: provide details about train whose name is VLNK-MAO-SWV"
   ]
  },
  {
   "cell_type": "code",
   "execution_count": 201,
   "id": "9482955f",
   "metadata": {},
   "outputs": [],
   "source": [
    "handler5 = agent.run(\"Total Number of Gazetted Staff Trained During 2023-24\", ctx=ctx)\n",
    "res = await handler5"
   ]
  },
  {
   "cell_type": "code",
   "execution_count": 203,
   "id": "0898efdd",
   "metadata": {},
   "outputs": [
    {
     "data": {
      "text/plain": [
       "'During the year 2023-24, a total of 64,338 Gazetted Staff members were trained.'"
      ]
     },
     "execution_count": 203,
     "metadata": {},
     "output_type": "execute_result"
    }
   ],
   "source": [
    "res.response.blocks[0].text if res.response.blocks else \"No response received.\""
   ]
  },
  {
   "cell_type": "markdown",
   "id": "934e101d",
   "metadata": {},
   "source": [
    "### Evaluation\n",
    "----------------------------"
   ]
  },
  {
   "cell_type": "markdown",
   "id": "13dc6462",
   "metadata": {},
   "source": [
    "Evaluation can be done using multiple Evaluator Such as Releveancy, Failthfulness and Correctness\n",
    "We are choosing to evaluate using Relevency here with llama RelevancyEvaluator, we are performing this only for QueryEngine for PDF Files,\n",
    "skipping the JSONEngine."
   ]
  },
  {
   "cell_type": "code",
   "execution_count": 117,
   "id": "d06f3fe8",
   "metadata": {},
   "outputs": [],
   "source": [
    "from llama_index.core.evaluation import RelevancyEvaluator\n",
    "from llama_index.core import Settings\n",
    "from llama_index.core.base.response.schema import Response"
   ]
  },
  {
   "cell_type": "markdown",
   "id": "e361eac9",
   "metadata": {},
   "source": [
    "Evaluating Query Engine 2: query_engine_tool_2 (Annual Report)"
   ]
  },
  {
   "cell_type": "code",
   "execution_count": 204,
   "id": "d5c67d9a",
   "metadata": {},
   "outputs": [
    {
     "name": "stdout",
     "output_type": "stream",
     "text": [
      "Evaluating Query : Ahmednagar - New Loni - Ashti belongs to which state?\n",
      "**************************************************\n",
      "Response Maharashtra\n",
      "Evaluation Score: 1.0\n",
      "\n",
      "\n",
      "Evaluating Query : What is New Bongaigaon- Kamakhya via Rangiya project length and anticipated cost?\n",
      "**************************************************\n",
      "Response The New Bongaigaon- Kamakhya via Rangiya project length is 176 km and the anticipated cost is 4,060 crore.\n",
      "Evaluation Score: 1.0\n",
      "\n",
      "\n",
      "Evaluating Query : Total Number of Gazetted Staff Trained During 2023-24?\n",
      "**************************************************\n",
      "Response The total number of Gazetted Staff trained during 2023-24 is 64,338.\n",
      "Evaluation Score: 1.0\n",
      "\n",
      "\n"
     ]
    }
   ],
   "source": [
    "# define evaluator\n",
    "evaluator = RelevancyEvaluator()\n",
    "your_eval_dataset = [\"Ahmednagar - New Loni - Ashti belongs to which state?\", \n",
    "                     \"What is New Bongaigaon- Kamakhya via Rangiya project length and anticipated cost?\",\n",
    "                     \"Total Number of Gazetted Staff Trained During 2023-24?\"]\n",
    "# query index\n",
    "for query in your_eval_dataset:\n",
    "    print(f\"Evaluating Query : {query}\")\n",
    "    print('*'*50)\n",
    "    response = query_engine_tool_2.query_engine.query(query)\n",
    "    eval_result = evaluator.evaluate_response(query=query, response=response)\n",
    "    print('Response', response)\n",
    "    print('Evaluation Score:',str(eval_result.score))\n",
    "    print('\\n')"
   ]
  },
  {
   "cell_type": "code",
   "execution_count": null,
   "id": "5f9fe764",
   "metadata": {},
   "outputs": [],
   "source": []
  }
 ],
 "metadata": {
  "kernelspec": {
   "display_name": "Python 3",
   "language": "python",
   "name": "python3"
  },
  "language_info": {
   "codemirror_mode": {
    "name": "ipython",
    "version": 3
   },
   "file_extension": ".py",
   "mimetype": "text/x-python",
   "name": "python",
   "nbconvert_exporter": "python",
   "pygments_lexer": "ipython3",
   "version": "3.9.23"
  }
 },
 "nbformat": 4,
 "nbformat_minor": 5
}
